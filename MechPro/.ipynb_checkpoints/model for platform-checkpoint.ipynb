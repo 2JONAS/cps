{
 "cells": [
  {
   "cell_type": "code",
   "execution_count": 2,
   "metadata": {
    "collapsed": true
   },
   "outputs": [
    {
     "name": "stdout",
     "output_type": "stream",
     "text": [
      "['CEQ', '铁素体', '珠光体', '片层间距']\n",
      "12.698137168145195\n",
      "[1161.936 1181.84  1154.92  1192.864 1190.648 1181.766 1180.852 1163.174\n",
      " 1189.784 1160.944]\n",
      "[ 15.19313756 -14.57052731  22.20913756   4.17562899  -7.01976856\n",
      "   4.77062059  -1.52702882  21.15390911 -16.23652053  20.12509265]\n",
      "1.527028818807139\n",
      "22.209137561332227\n",
      "10\n",
      "0\n"
     ]
    },
    {
     "name": "stderr",
     "output_type": "stream",
     "text": [
      "D:\\python\\lib\\site-packages\\pandas\\io\\excel.py:527: FutureWarning: Passing in an integer for `usecols` has been deprecated. Please pass in a list of int from 0 to `usecols` inclusive instead.\n",
      "  usecols = _maybe_convert_usecols(usecols)\n",
      "D:\\python\\lib\\site-packages\\sklearn\\utils\\validation.py:761: DataConversionWarning: A column-vector y was passed when a 1d array was expected. Please change the shape of y to (n_samples, ), for example using ravel().\n",
      "  y = column_or_1d(y, warn=True)\n"
     ]
    }
   ],
   "source": [
    "#预测 无成分数据 梯度树提升\n",
    "from sklearn.preprocessing import PolynomialFeatures\n",
    "import numpy as np\n",
    "import pandas as pd\n",
    "\n",
    "from sklearn.metrics import mean_squared_error\n",
    "from sklearn.datasets import make_friedman1\n",
    "from sklearn.ensemble import GradientBoostingRegressor\n",
    "\n",
    "from sklearn.model_selection import train_test_split\n",
    "from sklearn import metrics\n",
    "\n",
    "#读取数据文件\n",
    "FILE_PATH = 'E:/沙钢/170条数据/成分组织性能/平均值+方差 无成分 CEQ.xlsx'\n",
    "inputdata = pd.read_excel(FILE_PATH,usecols=3)\n",
    "X = np.array(inputdata.loc[:,:])\n",
    "#print(X.shape)\n",
    "headers = list(inputdata.columns.values)\n",
    "print(headers)\n",
    "targetdata1 = pd.read_excel(FILE_PATH,usecols=[4])\n",
    "y = np.array(targetdata1.loc[:,:])\n",
    "\n",
    "poly = PolynomialFeatures(degree=1)\n",
    "result=poly.fit_transform(X)\n",
    "\n",
    "#print(result)\n",
    "\n",
    "X_train,X_test,y_train,y_test = train_test_split(X,y,test_size=0.3,random_state=0)  #分割测试集与训练集\n",
    "Ir =GradientBoostingRegressor(n_estimators=100, learning_rate=0.4,max_depth=1, random_state=0, loss='ls')\n",
    "    \n",
    "Ir.fit(X_train,y_train)\n",
    "y_predict = Ir.predict(X_test)\n",
    "\n",
    "mae = metrics.mean_absolute_error(y_predict,y_test)\n",
    "y_test = y_test.ravel('F')\n",
    "\n",
    "print(mae)\n",
    "print(y_test)\n",
    "#print(y_predict)\n",
    "ae = y_predict-y_test\n",
    "print(ae)\n",
    "print(min(abs(ae)))\n",
    "print(max(abs(ae)))\n",
    "print(len(y_predict))\n",
    "count=0\n",
    "for i in range(len(ae)):\n",
    "      if(abs(ae[i]))>25:\n",
    "         count = count+1\n",
    "print(count)"
   ]
  },
  {
   "cell_type": "code",
   "execution_count": 1,
   "metadata": {
    "collapsed": false
   },
   "outputs": [
    {
     "name": "stderr",
     "output_type": "stream",
     "text": [
      "C:\\Users\\JiangXue\\AppData\\Local\\Continuum\\anaconda3\\lib\\site-packages\\pandas\\io\\excel.py:527: FutureWarning: Passing in an integer for `usecols` has been deprecated. Please pass in a list of int from 0 to `usecols` inclusive instead.\n",
      "  usecols = _maybe_convert_usecols(usecols)\n",
      "C:\\Users\\JiangXue\\AppData\\Local\\Continuum\\anaconda3\\lib\\site-packages\\sklearn\\ensemble\\gradient_boosting.py:1450: DataConversionWarning: A column-vector y was passed when a 1d array was expected. Please change the shape of y to (n_samples, ), for example using ravel().\n",
      "  y = column_or_1d(y, warn=True)\n"
     ]
    },
    {
     "name": "stdout",
     "output_type": "stream",
     "text": [
      "['CEQ', '铁素体', '珠光体', '片层间距']\n",
      "6.939419187999704\n",
      "[1185.158 1202.78  1192.864 1200.23  1193.736 1209.204 1184.234 1174.066\n",
      " 1160.048 1184.42  1154.92  1161.936 1168.626 1160.944 1181.766 1172.588\n",
      " 1190.648 1209.306 1197.472 1184.746 1189.784 1210.674 1181.84  1180.664\n",
      " 1164.766 1171.716 1163.174 1168.446 1180.852 1175.938 1185.174 1159.324]\n",
      "[  0.65020904 -15.52756099   2.51707286  -6.53566284  -7.95621041\n",
      " -14.14790112  -1.97374456   0.38867146   8.95317624   2.83243901\n",
      "   7.98227085   3.23839429  -0.66881874   9.41893795   0.41178719\n",
      "   8.6418034   -3.47802925 -11.52728935  -7.98725374   1.03378959\n",
      "  -3.73468746 -22.73768725  -3.53502484  -3.9372051   15.40155634\n",
      "   9.02637549   5.3405041   12.7838034    0.3778034   -4.28741855\n",
      "  -2.99621281  22.03211241]\n",
      "0.37780339679011377\n",
      "22.737687249890314\n",
      "32\n",
      "0\n"
     ]
    }
   ],
   "source": [
    "#预测 无成分数据 梯度树提升\n",
    "from sklearn.preprocessing import PolynomialFeatures\n",
    "import numpy as np\n",
    "import pandas as pd\n",
    "\n",
    "from sklearn.metrics import mean_squared_error\n",
    "from sklearn.datasets import make_friedman1\n",
    "from sklearn.ensemble import GradientBoostingRegressor\n",
    "\n",
    "from sklearn.model_selection import train_test_split\n",
    "from sklearn import metrics\n",
    "\n",
    "#读取数据文件\n",
    "FILE_PATH = 'E:/1.我的科研/我的项目/1.沙钢项目/model/平均值+方差 无成分 CEQ.xlsx'\n",
    "inputdata = pd.read_excel(FILE_PATH,usecols=3)\n",
    "X = np.array(inputdata.loc[:,:])\n",
    "#print(X.shape)\n",
    "headers = list(inputdata.columns.values)\n",
    "print(headers)\n",
    "targetdata1 = pd.read_excel(FILE_PATH,usecols=[4])\n",
    "y = np.array(targetdata1.loc[:,:])\n",
    "\n",
    "poly = PolynomialFeatures(degree=1)\n",
    "result=poly.fit_transform(X)\n",
    "\n",
    "#print(result)\n",
    "\n",
    "#全部数据用于建模\n",
    "Ir =GradientBoostingRegressor(n_estimators=100, learning_rate=0.4,max_depth=1, random_state=0, loss='ls')\n",
    "    \n",
    "Ir.fit(X,y)\n",
    "\n",
    "#需要导入测试数据\n",
    "y_predict = Ir.predict(X)\n",
    "\n",
    "mae = metrics.mean_absolute_error(y_predict,y)\n",
    "y_test = y.ravel('F')\n",
    "\n",
    "print(mae)\n",
    "print(y_test)\n",
    "#print(y_predict)\n",
    "ae = y_predict-y_test\n",
    "print(ae)\n",
    "print(min(abs(ae)))\n",
    "print(max(abs(ae)))\n",
    "print(len(y_predict))\n",
    "count=0\n",
    "for i in range(len(ae)):\n",
    "      if(abs(ae[i]))>25:\n",
    "         count = count+1\n",
    "print(count)"
   ]
  },
  {
   "cell_type": "code",
   "execution_count": 2,
   "metadata": {
    "collapsed": false
   },
   "outputs": [
    {
     "name": "stderr",
     "output_type": "stream",
     "text": [
      "C:\\Users\\JiangXue\\AppData\\Local\\Continuum\\anaconda3\\lib\\site-packages\\sklearn\\externals\\joblib\\__init__.py:15: DeprecationWarning: sklearn.externals.joblib is deprecated in 0.21 and will be removed in 0.23. Please import this functionality directly from joblib, which can be installed with: pip install joblib. If this warning is raised when loading pickled models, you may need to re-serialize those models with scikit-learn 0.21+.\n",
      "  warnings.warn(msg, category=DeprecationWarning)\n"
     ]
    },
    {
     "data": {
      "text/plain": [
       "['property.model']"
      ]
     },
     "execution_count": 2,
     "metadata": {},
     "output_type": "execute_result"
    }
   ],
   "source": [
    "from sklearn.externals import joblib\n",
    "joblib.dump(Ir,'property.model')"
   ]
  },
  {
   "cell_type": "code",
   "execution_count": 6,
   "metadata": {
    "collapsed": false
   },
   "outputs": [
    {
     "name": "stdout",
     "output_type": "stream",
     "text": [
      "[1185.80820904]\n"
     ]
    }
   ],
   "source": [
    "from sklearn.externals import joblib\n",
    "s = joblib.load('E:/1.我的科研/我的项目/1.沙钢项目/model/property.model')\n",
    "result = s.predict([[0.9,0.8188,99.1812,0.1976]])\n",
    "print(result)"
   ]
  },
  {
   "cell_type": "code",
   "execution_count": null,
   "metadata": {
    "collapsed": true
   },
   "outputs": [],
   "source": []
  }
 ],
 "metadata": {
  "anaconda-cloud": {},
  "kernelspec": {
   "display_name": "Python [default]",
   "language": "python",
   "name": "python3"
  },
  "language_info": {
   "codemirror_mode": {
    "name": "ipython",
    "version": 3
   },
   "file_extension": ".py",
   "mimetype": "text/x-python",
   "name": "python",
   "nbconvert_exporter": "python",
   "pygments_lexer": "ipython3",
   "version": "3.5.2"
  }
 },
 "nbformat": 4,
 "nbformat_minor": 2
}
