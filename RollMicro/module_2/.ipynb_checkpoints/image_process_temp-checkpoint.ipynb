{
 "cells": [
  {
   "cell_type": "code",
   "execution_count": 1,
   "metadata": {
    "collapsed": true
   },
   "outputs": [],
   "source": [
    "import os\n",
    "import cv2\n",
    "import matplotlib.pyplot as plt\n",
    "import random"
   ]
  },
  {
   "cell_type": "code",
   "execution_count": 2,
   "metadata": {
    "collapsed": false
   },
   "outputs": [
    {
     "name": "stdout",
     "output_type": "stream",
     "text": [
      "[  0 255   0   0   0   0   0   0   0 255   0   0   0   0   0   0   0   0\n",
      "   0   0   0 255 255 255 255 255 255 255 255 255   0   0   0   0   0   0\n",
      "   0   0   0   0   0   0   0   0   0   0   0   0   0 255 255   0   0   0\n",
      "   0   0   0   0   0 255   0   0   0   0   0   0   0   0   0   0   0   0\n",
      "   0   0   0   0   0   0   0   0 255   0   0   0   0   0   0   0   0   0\n",
      "   0   0   0   0   0   0   0   0   0   0   0 255 255 255 255 255 255 255\n",
      "   0   0   0   0 255   0   0   0   0   0   0   0   0   0   0   0   0   0\n",
      "   0   0   0   0   0   0   0   0   0   0   0   0   0   0   0   0   0   0\n",
      "   0   0   0   0   0   0   0   0   0   0 255 255   0   0   0   0   0   0\n",
      "   0   0   0   0   0   0   0   0   0   0   0   0   0   0   0   0   0   0\n",
      "   0   0   0   0   0   0   0   0   0   0   0   0   0   0   0   0   0   0\n",
      "   0   0   0   0 255   0   0   0   0   0   0   0   0   0   0   0   0   0\n",
      "   0   0   0   0   0   0   0   0   0   0   0   0   0   0   0   0   0   0\n",
      "   0   0   0   0   0   0   0   0   0   0   0   0   0   0   0   0   0   0\n",
      " 255   0   0   0   0 255   0   0   0   0   0   0   0   0   0   0   0   0\n",
      "   0   0   0   0   0   0   0   0   0   0   0   0   0   0   0   0   0   0\n",
      " 255   0   0   0   0   0   0   0   0]\n"
     ]
    },
    {
     "data": {
      "image/png": "[encoded data removed]",
      "text/plain": [
       "<Figure size 432x288 with 2 Axes>"
      ]
     },
     "metadata": {
      "needs_background": "light"
     },
     "output_type": "display_data"
    }
   ],
   "source": [
    "img = cv2.imread('jingli.png')\n",
    "#imgGray = cv2.cvtColor(img, cv2.COLOR_BGR2GRAY)\n",
    "imgCanny=cv2.Canny(img,0,30,3)\n",
    "plt.subplot(121)\n",
    "plt.imshow(img)\n",
    "\n",
    "imgCanny\n",
    "cv2.imwrite('imgCanny.jpg',imgCanny)\n",
    "height,width = imgCanny.shape\n",
    "height\n",
    "imgCanny = imgCanny[int(height*0.1):int(height*0.9)][int(width*0.1):int(width*0.9)]\n",
    "plt.subplot(122)\n",
    "plt.imshow(imgCanny)\n",
    "print(imgCanny[5])"
   ]
  },
  {
   "cell_type": "code",
   "execution_count": null,
   "metadata": {
    "collapsed": true
   },
   "outputs": [],
   "source": [
    "import cv2\n",
    "import numpy as np\n",
    "def CannyThreshold(lowThreshold):\n",
    "    detected_edges = cv2.GaussianBlur(gray,(3,3),0)\n",
    "    detected_edges = cv2.Canny(detected_edges,lowThreshold,lowThreshold*ratio,apertureSize = kernel_size)\n",
    "    dst = cv2.bitwise_and(img,img,mask = detected_edges)  # just add some colours to edges from original image.\n",
    "    cv2.imshow('canny demo',dst)\n",
    "lowThreshold = 0\n",
    "max_lowThreshold = 100\n",
    "ratio = 3\n",
    "kernel_size = 3\n",
    "#img = cv2.imread('D:/lion.jpg')\n",
    "gray = cv2.cvtColor(img,cv2.COLOR_BGR2GRAY)\n",
    "gray=cv2.GaussianBlur(gray,(7,7),0)\n",
    "\n",
    "cv2.namedWindow('canny demo')\n",
    "cv2.createTrackbar('Min threshold','canny demo',lowThreshold, max_lowThreshold, CannyThreshold)\n",
    "CannyThreshold(0)  # initialization\n",
    "if cv2.waitKey(0) == 27:\n",
    "    cv2.destroyAllWindows()"
   ]
  },
  {
   "cell_type": "code",
   "execution_count": 53,
   "metadata": {
    "collapsed": true
   },
   "outputs": [],
   "source": [
    "def calculate_jingli(image_path,line_sample = 20):\n",
    "    img = cv2.imread(image_path)\n",
    "    imgCanny = cv2.Canny(img,0,30,3)\n",
    "    height,width = imgCanny.shape\n",
    "    imgCanny = imgCanny[int(height*0.1):int(height*0.9)][int(width*0.1):int(width*0.9)]\n",
    "    height,width = imgCanny.shape\n",
    "    def calculate_line(imgCanny,line_index):\n",
    "        num = 0\n",
    "        line = imgCanny[line_index]\n",
    "        flag = 0\n",
    "        for point_index in range(width):\n",
    "            \n",
    "            if imgCanny[line_index][point_index] == 0 and flag == 0:\n",
    "                num = num + 1\n",
    "                flag = 1 \n",
    "            if imgCanny[line_index][point_index] != 0:\n",
    "                flag = 0\n",
    "            #print(num,imgCanny[line_index][point_index])\n",
    "        return num\n",
    "    d_sum = 0\n",
    "    for i in range(line_sample):\n",
    "        a = random.randint(0,height-1)\n",
    "        d_sum = d_sum + calculate_line(imgCanny,a)\n",
    "    return d_sum//line_sample\n",
    "    \n",
    "    "
   ]
  },
  {
   "cell_type": "code",
   "execution_count": 81,
   "metadata": {
    "collapsed": false
   },
   "outputs": [
    {
     "data": {
      "text/plain": [
       "13"
      ]
     },
     "execution_count": 81,
     "metadata": {},
     "output_type": "execute_result"
    }
   ],
   "source": [
    "calculate_jingli('jingli.png',100)"
   ]
  }
 ],
 "metadata": {
  "kernelspec": {
   "display_name": "Python [default]",
   "language": "python",
   "name": "python3"
  },
  "language_info": {
   "codemirror_mode": {
    "name": "ipython",
    "version": 3
   },
   "file_extension": ".py",
   "mimetype": "text/x-python",
   "name": "python",
   "nbconvert_exporter": "python",
   "pygments_lexer": "ipython3",
   "version": "3.5.2"
  }
 },
 "nbformat": 4,
 "nbformat_minor": 2
}
