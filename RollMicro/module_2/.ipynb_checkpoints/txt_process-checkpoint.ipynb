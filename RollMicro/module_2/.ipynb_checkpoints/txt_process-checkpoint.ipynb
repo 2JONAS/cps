{
 "cells": [
  {
   "cell_type": "code",
   "execution_count": 1,
   "metadata": {
    "collapsed": true
   },
   "outputs": [],
   "source": [
    "file = 'Site-frac-steel1.tcm'\n",
    "import datetime\n",
    "import csv\n",
    "import os\n",
    "import time\n",
    "\n"
   ]
  },
  {
   "cell_type": "code",
   "execution_count": 3,
   "metadata": {
    "collapsed": true
   },
   "outputs": [],
   "source": [
    "def get_data_base(path,first_line=0):\n",
    "    dict_ = {}    \n",
    "    with open(path,encoding='utf-8-sig') as csvfile:\n",
    "        csv_reader = csv.reader(csvfile)  # 使用csv.reader读取csvfile中的文件\n",
    "        #birth_header = next(csv_reader)  # 读取第一行每一列的标题\n",
    "        #first_line = 0\n",
    "        for row in csv_reader:  # 将csv 文件中的数据保存到birth_data中\n",
    "            if first_line:\n",
    "                first_line = 0\n",
    "                continue\n",
    "            dict_[row[0]] = row[1:]\n",
    "        return dict_\n",
    "    "
   ]
  },
  {
   "cell_type": "code",
   "execution_count": 6,
   "metadata": {
    "collapsed": true
   },
   "outputs": [],
   "source": [
    "##填充tcm数据\n",
    "def change_data_in_cm(in_file_path,out_file_path,data_base):\n",
    "    \n",
    "    write = []\n",
    "    with open(in_file_path,\"r\") as f:    #设置文件对象\n",
    "        for index,line in enumerate(f.readlines()):\n",
    "            \n",
    "            if '%' in line:\n",
    "                char_index = 0\n",
    "                new_line = line\n",
    "                while char_index<len(line):\n",
    "                    if line[char_index] == '%':\n",
    "                        sub_index = char_index + 1\n",
    "                        while line[sub_index] != '%':\n",
    "                            sub_index = sub_index + 1 \n",
    "                        key = line[char_index+1:sub_index]\n",
    "                        new_line=new_line.replace('%'+key+'%',data_base[key][0])\n",
    "                        char_index = sub_index\n",
    "                    char_index = char_index + 1\n",
    "                line = new_line\n",
    "            write.append(line)\n",
    "        s = '\\n'.join(write)\n",
    "        fp = open(out_file_path,'w')\n",
    "        fp.write(s)\n",
    "        fp.close()\n",
    "        #print(s)\n",
    "##从txt文件中读取计算后的MN Si等数据\n",
    "def read_data_from_txt1(in_file_path,data_base):\n",
    "    with open(in_file_path,\"r\") as f:\n",
    "        flag = 0\n",
    "        ##Sublattice是标志物是分界线\n",
    "        for line in f.readlines():\n",
    "            if 'Sublattice' not in line and flag ==0:\n",
    "                continue\n",
    "            else:\n",
    "                flag = 1\n",
    "            line = line.strip()\n",
    "            line_list = line.strip(' ').split(' ')\n",
    "            \n",
    "            new_list = []\n",
    "            for char in line_list:\n",
    "                if '' == char:\n",
    "                    continue\n",
    "                else:\n",
    "                    new_list.append(char)\n",
    "            #print(new_list)\n",
    "            l = ['MN','SI','C']\n",
    "            for char in l:\n",
    "                if char in new_list:\n",
    "                    data_base[char] = [new_list[new_list.index(char) + 1]]\n",
    "def read_data_from_txt2(in_file_path,data_base):\n",
    "        with open(in_file_path,\"r\") as f:\n",
    "            flag = 0\n",
    "            whole = []\n",
    "            for line in f.readlines():\n",
    "                line=line.strip()\n",
    "                line_list = line.strip(' ').split(' ')\n",
    "                #line_list[-1] = line_list[-1][:-2]\n",
    "                new_list = []\n",
    "                for char in line_list:\n",
    "                    if '' == char:\n",
    "                        continue\n",
    "                    else:\n",
    "                        new_list.append(char)\n",
    "                if 'M' in new_list and flag==0:\n",
    "                    first_value = float(new_list[new_list.index('M')-1])\n",
    "                    flag = 1\n",
    "                whole.append(new_list)\n",
    "                \n",
    "            second_vaule = float(whole[-2][-1])\n",
    "            value = (first_value+second_vaule)/2 * pow(10,6)\n",
    "            data_base['txt2_value'] = [str(value)]\n",
    "            \n",
    "            \n",
    "\n"
   ]
  },
  {
   "cell_type": "code",
   "execution_count": 8,
   "metadata": {
    "collapsed": false
   },
   "outputs": [
    {
     "data": {
      "text/plain": [
       "{'C_wt': ['0.82'],\n",
       " 'Si_wt': ['0.2'],\n",
       " 'Mn_wt': ['0.52'],\n",
       " 'MN': ['5.31868E-03'],\n",
       " 'SI': ['4.00141E-03'],\n",
       " 'C': ['3.83626E-02'],\n",
       " 'txt2_value': ['0.0775700047265']}"
      ]
     },
     "execution_count": 8,
     "metadata": {},
     "output_type": "execute_result"
    }
   ],
   "source": [
    "##先获取外部输入地址\n",
    "data_base = get_data_base('model/steel1/database.csv')\n",
    "##模板tcm地址\n",
    "in_file_path = 'model/steel1/Site-frac-steel1.tcm'\n",
    "out_file_path =time.strftime(\"%Y-%m-%d-%H_%M_%S\",time.localtime(time.time())) \n",
    "out_file_dir = 'run/' + out_file_path\n",
    "##创建run的文件夹\n",
    "os.mkdir(out_file_dir)\n",
    "out_file_path = out_file_dir + '/Site-frac-steel1.tcm'\n",
    "##填tcm 的空\n",
    "change_data_in_cm(in_file_path,out_file_path,data_base)\n",
    "##run tcm 还没做\n",
    "##获取tcm输出的txt的数值\n",
    "read_data_from_txt1('model/steel1/Site-fra-steel1.txt',data_base) ##到时候路径要改一下\n",
    "##填第二个dcm的空\n",
    "in_file_path = 'model/steel1/Pearlite-steel1.dcm'\n",
    "out_file_path = out_file_dir + '/Pearlite-steel1.dcm'\n",
    "change_data_in_cm(in_file_path,out_file_path,data_base)\n",
    "##run dcm   还没做\n",
    "##读取第二个txt的数值,顺便求了下平均\n",
    "read_data_from_txt2('model/steel1/Pearlite-steel1.txt',data_base)  ##到时候要求下路径\n",
    "\n",
    "\n",
    "data_base"
   ]
  }
 ],
 "metadata": {
  "anaconda-cloud": {},
  "kernelspec": {
   "display_name": "Python [default]",
   "language": "python",
   "name": "python3"
  },
  "language_info": {
   "codemirror_mode": {
    "name": "ipython",
    "version": 3
   },
   "file_extension": ".py",
   "mimetype": "text/x-python",
   "name": "python",
   "nbconvert_exporter": "python",
   "pygments_lexer": "ipython3",
   "version": "3.5.2"
  }
 },
 "nbformat": 4,
 "nbformat_minor": 2
}
